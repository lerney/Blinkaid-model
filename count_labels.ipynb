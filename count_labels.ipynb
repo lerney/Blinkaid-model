{
 "cells": [
  {
   "cell_type": "code",
   "execution_count": null,
   "id": "f9b7abf1",
   "metadata": {},
   "outputs": [],
   "source": [
    "files = []\n"
   ]
  },
  {
   "cell_type": "code",
   "execution_count": null,
   "id": "09612285",
   "metadata": {},
   "outputs": [],
   "source": [
    "import numpy as np\n",
    "import pandas as pd\n",
    "\n",
    "# Function to count blink sequences in a dataset\n",
    "def count_blink_sequences(labels):\n",
    "    \"\"\"Counts consecutive sequences of blinks (1s) in the label column.\"\"\"\n",
    "    blink_sequences = []\n",
    "    count = 0\n",
    "\n",
    "    for i in range(1, len(labels)):\n",
    "        if labels[i] == 1 and labels[i - 1] == 1:\n",
    "            count += 1  # Continuing a blink sequence\n",
    "        elif labels[i] == 1:  # New blink sequence starts\n",
    "            count = 1\n",
    "        else:  # End of blink sequence\n",
    "            if count > 0:\n",
    "                blink_sequences.append(count)\n",
    "            count = 0\n",
    "\n",
    "    if count > 0:  # Capture last sequence if it ends at the last sample\n",
    "        blink_sequences.append(count)\n",
    "\n",
    "    return len(blink_sequences)  # Return number of blink sequences\n",
    "\n",
    "# Dictionary to store blink sequence counts for each file\n",
    "file_blink_counts = {}\n",
    "\n",
    "# Process each file separately\n",
    "file_data = {}\n",
    "\n",
    "for file in files:\n",
    "    df = pd.read_csv(file)\n",
    "    \n",
    "    # Ensure 'label' column is a string type to avoid comparison issues\n",
    "    df['label'] = df['label'].astype(str)\n",
    "    \n",
    "    # Apply the relabeling function only to the 'label' column\n",
    "    df['label'] = df['label'].apply(lambda x: 1 if x.lower() == 'reading' else 0)\n",
    "    \n",
    "    # Drop the timestamp column\n",
    "    df = df.drop(columns=['timestamp'])\n",
    "    \n",
    "    num_blink_sequences = count_blink_sequences(df['label'].values)\n",
    "    file_blink_counts[file] = num_blink_sequences\n",
    "    file_data[file] = df  # Store the full dataset\n",
    "\n",
    "# Print blink sequence distribution\n",
    "print(\"Blink Sequences Per File:\")\n",
    "for file, count in file_blink_counts.items():\n",
    "    print(f\"{file}: {count} sequences\")"
   ]
  }
 ],
 "metadata": {
  "kernelspec": {
   "display_name": "Python 3 (ipykernel)",
   "language": "python",
   "name": "python3"
  },
  "language_info": {
   "codemirror_mode": {
    "name": "ipython",
    "version": 3
   },
   "file_extension": ".py",
   "mimetype": "text/x-python",
   "name": "python",
   "nbconvert_exporter": "python",
   "pygments_lexer": "ipython3",
   "version": "3.9.16"
  }
 },
 "nbformat": 4,
 "nbformat_minor": 5
}
